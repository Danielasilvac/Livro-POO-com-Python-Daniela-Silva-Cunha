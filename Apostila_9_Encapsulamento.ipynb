{
  "nbformat": 4,
  "nbformat_minor": 0,
  "metadata": {
    "colab": {
      "provenance": [],
      "authorship_tag": "ABX9TyNdvPIZGzfol9jBetDrf0bk",
      "include_colab_link": true
    },
    "kernelspec": {
      "name": "python3",
      "display_name": "Python 3"
    },
    "language_info": {
      "name": "python"
    }
  },
  "cells": [
    {
      "cell_type": "markdown",
      "metadata": {
        "id": "view-in-github",
        "colab_type": "text"
      },
      "source": [
        "<a href=\"https://colab.research.google.com/github/Danielasilvac/Livro-POO-com-Python/blob/main/Apostila_9_Encapsulamento.ipynb\" target=\"_parent\"><img src=\"https://colab.research.google.com/assets/colab-badge.svg\" alt=\"Open In Colab\"/></a>"
      ]
    },
    {
      "cell_type": "markdown",
      "source": [
        "Exercícios:"
      ],
      "metadata": {
        "id": "ScSEc_Li_999"
      }
    },
    {
      "cell_type": "code",
      "execution_count": null,
      "metadata": {
        "colab": {
          "base_uri": "https://localhost:8080/"
        },
        "id": "MBIfFKT3_zu7",
        "outputId": "36ca2350-49fa-42ea-cfe3-0da89b897be5"
      },
      "outputs": [
        {
          "output_type": "stream",
          "name": "stdout",
          "text": [
            "Saldo inicial do João: 500.0\n",
            "Saldo inicial da Maria: 300.0\n",
            "Depósito de R$ 200.00 realizado com sucesso.\n",
            "Saque de R$ 100.00 realizado.\n",
            "Saque de R$ 150.00 realizado.\n",
            "Depósito de R$ 150.00 realizado com sucesso.\n",
            "Transferência de R$ 150.00 para a conta 002 realizada.\n",
            "\n",
            "Saldo final do João: 550.0\n",
            "Saldo final da Maria: 350.0\n",
            "\n",
            "ID da conta do João: 1\n",
            "ID da conta da Maria: 2\n"
          ]
        }
      ],
      "source": [
        "class Conta:\n",
        "    __slots__ = ['_numero', '_titular', '_saldo', '_limite', '_identificador']  # Lista de atributos permitidos\n",
        "\n",
        "    _contador_id = 1 # Classe iniciada com o contador de identificadores\n",
        "\n",
        "    def __init__(self, numero, titular, saldo, limite=1000.0):\n",
        "        self._numero = numero  # Atributo protegido\n",
        "        self._titular = titular\n",
        "        self._saldo = saldo\n",
        "        self._limite = limite\n",
        "        self._identificador = Conta._contador_id\n",
        "        Conta._contador_id += 1\n",
        "\n",
        "    @property # Propriedades para acesso controlado\n",
        "    def saldo(self):\n",
        "        return self._saldo\n",
        "\n",
        "    @saldo.setter\n",
        "    def saldo(self, saldo):\n",
        "        if saldo < 0:\n",
        "            print(\"Saldo não pode ser negativo\")\n",
        "        else:\n",
        "            self._saldo = saldo\n",
        "\n",
        "    @property\n",
        "    def numero(self):\n",
        "        return self._numero\n",
        "\n",
        "    @property\n",
        "    def titular(self):\n",
        "        return self._titular\n",
        "\n",
        "    @property\n",
        "    def limite(self):\n",
        "        return self._limite\n",
        "\n",
        "    @limite.setter\n",
        "    def limite(self, novo_limite):\n",
        "        if novo_limite < 0:\n",
        "            print(\"Limite não pode ser negativo.\")\n",
        "        else:\n",
        "            self._limite = novo_limite\n",
        "\n",
        "    @property\n",
        "    def identificador(self):\n",
        "        return self._identificador\n",
        "\n",
        "# Métodos da conta\n",
        "    def depositar(self, valor):\n",
        "        self._saldo += valor\n",
        "        print(f\"Depósito de R$ {valor:.2f} realizado com sucesso.\")\n",
        "\n",
        "    def sacar(self, valor):\n",
        "        if valor > self._saldo:\n",
        "            print(\"Saldo insuficiente.\")\n",
        "            return False\n",
        "        else:\n",
        "            self._saldo -= valor\n",
        "            print(f\"Saque de R$ {valor:.2f} realizado.\")\n",
        "            return True\n",
        "\n",
        "    def transferir(self, destino, valor):\n",
        "        if self.sacar(valor):\n",
        "            destino.depositar(valor)\n",
        "            print(f\"Transferência de R$ {valor:.2f} para a conta {destino.numero} realizada.\")\n",
        "            return True\n",
        "        else:\n",
        "            print(\"Transferência não realizada.\")\n",
        "            return False\n",
        "\n",
        "    def extrato(self):\n",
        "        print(\"=== Extrato da Conta ===\")\n",
        "        print(f\"Número: {self._numero}\")\n",
        "        print(f\"Titular: {self._titular}\")\n",
        "        print(f\"Saldo: R$ {self._saldo:.2f}\")\n",
        "        print(f\"Limite: R$ {self._limite:.2f}\")\n",
        "        print(f\"ID único: {self._identificador}\")\n",
        "        print(\"========================\\n\")\n",
        "\n",
        "# Exemplo de uso\n",
        "conta1 = Conta(\"001\", \"João\", 500.0)\n",
        "conta2 = Conta(\"002\", \"Maria\", 300.0)\n",
        "\n",
        "print(\"Saldo inicial do João:\", conta1.saldo)\n",
        "print(\"Saldo inicial da Maria:\", conta2.saldo)\n",
        "\n",
        "conta1.depositar(200.0)\n",
        "\n",
        "conta2.sacar(100.0)\n",
        "\n",
        "conta1.transferir(conta2, 150.0)\n",
        "\n",
        "print(\"\\nSaldo final do João:\", conta1.saldo)\n",
        "print(\"Saldo final da Maria:\", conta2.saldo)\n",
        "\n",
        "print(\"\\nID da conta do João:\", conta1.identificador)\n",
        "print(\"ID da conta da Maria:\", conta2.identificador)\n"
      ]
    }
  ]
}