{
  "nbformat": 4,
  "nbformat_minor": 0,
  "metadata": {
    "colab": {
      "provenance": [],
      "authorship_tag": "ABX9TyOko1DlPAZJI/6J+5paQl3i",
      "include_colab_link": true
    },
    "kernelspec": {
      "name": "python3",
      "display_name": "Python 3"
    },
    "language_info": {
      "name": "python"
    }
  },
  "cells": [
    {
      "cell_type": "markdown",
      "metadata": {
        "id": "view-in-github",
        "colab_type": "text"
      },
      "source": [
        "<a href=\"https://colab.research.google.com/github/Danielasilvac/Livro-POO-com-Python-Daniela-Silva-Cunha/blob/main/04_Apostila_11_Heran%C3%A7a_e_Classes_Abstratas.ipynb\" target=\"_parent\"><img src=\"https://colab.research.google.com/assets/colab-badge.svg\" alt=\"Open In Colab\"/></a>"
      ]
    },
    {
      "cell_type": "markdown",
      "source": [
        "Exercícios - Classes Abstratas"
      ],
      "metadata": {
        "id": "nQKYX_0HPq19"
      }
    },
    {
      "cell_type": "code",
      "execution_count": null,
      "metadata": {
        "colab": {
          "base_uri": "https://localhost:8080/"
        },
        "id": "0KyYcKCAPg4i",
        "outputId": "e9c00692-9aae-4901-c2cf-3c717dc3e3fd"
      },
      "outputs": [
        {
          "output_type": "stream",
          "name": "stdout",
          "text": [
            "Conta Corrente - Número: 123-4, Titular: Paula, Saldo: R$ 1020.00\n",
            "Conta Poupança - Número: 123-5, Titular: Ricardo, Saldo: R$ 1030.00\n",
            "Conta Investimento - Número: 123-6, Titular: Camila, Saldo: R$ 2100.00\n"
          ]
        }
      ],
      "source": [
        "import abc  # Módulo para classes e métodos abstratos\n",
        "\n",
        "class Conta(abc.ABC):  # Classe abstrata base para contas bancárias\n",
        "    def __init__(self, numero, titular, saldo=0, limite=1000.0):  # Inicializa atributos da conta\n",
        "        self._numero = numero\n",
        "        self._titular = titular\n",
        "        self._saldo = saldo\n",
        "        self._limite = limite\n",
        "\n",
        "    @property # Getter para acessar o saldo de forma segura\n",
        "    def saldo(self):\n",
        "        return self._saldo\n",
        "\n",
        "    @abc.abstractmethod # Método abstrato que será obrigatório nas subclasses\n",
        "    def atualizar(self, taxa): # As subclasses devem definir como atualizar o saldo com base na taxa\n",
        "        pass\n",
        "\n",
        "    def depositar(self, valor):  # Adiciona o valor ao saldo da conta\n",
        "        self._saldo += valor\n",
        "\n",
        "    def __str__(self): # Retorna uma string representando os dados da conta\n",
        "        return f\"{self.tipo} - Número: {self._numero}, Titular: {self._titular}, Saldo: R$ {self._saldo:.2f}\"\n",
        "\n",
        "\n",
        "class ContaCorrente(Conta): # Subclasse representando uma conta corrente\n",
        "    def __init__(self, numero, titular, saldo=0):\n",
        "        super().__init__(numero, titular, saldo) # Chama o construtor da classe base\n",
        "        self.tipo = \"Conta Corrente\"\n",
        "\n",
        "    def atualizar(self, taxa): # Atualiza o saldo da conta corrente com uma taxa dobrada (x2)\n",
        "        self._saldo += self._saldo * taxa * 2\n",
        "\n",
        "\n",
        "class ContaPoupanca(Conta): # Subclasse representando uma conta poupança\n",
        "    def __init__(self, numero, titular, saldo=0):\n",
        "        super().__init__(numero, titular, saldo)\n",
        "        self.tipo = \"Conta Poupança\"\n",
        "\n",
        "    def atualizar(self, taxa): # Atualiza o saldo da conta poupança com taxa triplicada (x3)\n",
        "        self._saldo += self._saldo * taxa * 3\n",
        "\n",
        "\n",
        "class ContaInvestimento(Conta):  # Subclasse representando uma conta de investimento\n",
        "    def __init__(self, numero, titular, saldo=0):\n",
        "        super().__init__(numero, titular, saldo)\n",
        "        self.tipo = \"Conta Investimento\"\n",
        "\n",
        "    def atualizar(self, taxa): # Atualiza o saldo da conta de investimento com taxa multiplicada por 5 (x5)\n",
        "        self._saldo += self._saldo * taxa * 5\n",
        "\n",
        "\n",
        "# Exemplo de uso\n",
        "if __name__ == '__main__': # Cria três contas de tipos diferentes (corrente, poupança e investimento)\n",
        "    conta_corrente = ContaCorrente('123-4', 'Paula', 1000.0)\n",
        "    conta_poupanca = ContaPoupanca('123-5', 'Ricardo', 1000.0)\n",
        "    conta_investimento = ContaInvestimento('123-6', 'Camila', 1000.0)\n",
        "\n",
        "    conta_corrente.atualizar(0.01)  # Rendimento com taxa * 2\n",
        "    conta_poupanca.atualizar(0.01)  # Rendimento com taxa * 3\n",
        "\n",
        "    conta_investimento.depositar(1000.0)  # Depósito adicional\n",
        "    conta_investimento.atualizar(0.01)    # Rendimento com taxa * 5\n",
        "\n",
        "  # Exibe os dados das contas com saldo atualizado\n",
        "    print(conta_corrente)\n",
        "    print(conta_poupanca)\n",
        "    print(conta_investimento)"
      ]
    }
  ]
}