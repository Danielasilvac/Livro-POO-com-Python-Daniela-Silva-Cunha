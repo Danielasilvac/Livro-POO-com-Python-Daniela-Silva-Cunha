{
  "nbformat": 4,
  "nbformat_minor": 0,
  "metadata": {
    "colab": {
      "provenance": [],
      "authorship_tag": "ABX9TyPEvlaHdb7I6KR4Kwo9nt9D",
      "include_colab_link": true
    },
    "kernelspec": {
      "name": "python3",
      "display_name": "Python 3"
    },
    "language_info": {
      "name": "python"
    }
  },
  "cells": [
    {
      "cell_type": "markdown",
      "metadata": {
        "id": "view-in-github",
        "colab_type": "text"
      },
      "source": [
        "<a href=\"https://colab.research.google.com/github/Danielasilvac/Livro-POO-com-Python-Daniela-Silva-Cunha/blob/main/01_Apostila_8_Orienta%C3%A7%C3%A3o_a_Objetos.ipynb\" target=\"_parent\"><img src=\"https://colab.research.google.com/assets/colab-badge.svg\" alt=\"Open In Colab\"/></a>"
      ]
    },
    {
      "cell_type": "markdown",
      "source": [
        "Exercício: Criando uma conta"
      ],
      "metadata": {
        "id": "RJnmurMbFN12"
      }
    },
    {
      "cell_type": "code",
      "source": [
        "def criar_conta(numero, titular, saldo, limite): # Função para criar uma conta bancária\n",
        "    conta = {\"numero\": numero, \"titular\": titular, \"saldo\": saldo, \"limite\": limite}\n",
        "    return conta\n",
        "\n",
        "def depositar(conta, valor): # Função para depositar um valor na conta\n",
        "    conta['saldo'] += valor\n",
        "\n",
        "def sacar(conta, valor): # Função para sacar um valor da conta\n",
        "    conta['saldo'] -= valor\n",
        "\n",
        "def exibir_extrato(conta): # Função para exibir o extrato da conta\n",
        "    print(\"numero: {} \\nsaldo: {:.2f}\".format(conta['numero'], conta['saldo']))\n",
        "\n",
        "# Exemplo de Uso\n",
        "conta = criar_conta('123-7', 'João', 500.0, 1000.0) # Criação da conta\n",
        "\n",
        "depositar(conta, 150.0) # Depósito de R$50,00\n",
        "exibir_extrato(conta)\n",
        "\n",
        "sacar(conta, 35.0) # Saque de R$20,00\n",
        "exibir_extrato(conta)"
      ],
      "metadata": {
        "colab": {
          "base_uri": "https://localhost:8080/"
        },
        "id": "smUANI2yHpvZ",
        "outputId": "91778a4d-26b8-4fc5-f06f-999dfc060812"
      },
      "execution_count": null,
      "outputs": [
        {
          "output_type": "stream",
          "name": "stdout",
          "text": [
            "numero: 123-7 \n",
            "saldo: 650.00\n",
            "numero: 123-7 \n",
            "saldo: 615.00\n"
          ]
        }
      ]
    },
    {
      "cell_type": "markdown",
      "source": [
        "Exercício: Primeira Classe Python"
      ],
      "metadata": {
        "id": "lXnaZ5VuzqYJ"
      }
    },
    {
      "cell_type": "code",
      "source": [
        "class Cliente: # Classe que representa um Cliente do banco\n",
        "    def __init__(self, nome, sobrenome, cpf):\n",
        "        self.nome = nome\n",
        "        self.sobrenome = sobrenome\n",
        "        self.cpf = cpf\n",
        "\n",
        "class Data: # Classe que representa uma Data de registro da abertura da conta\n",
        "    def __init__(self, dia, mes, ano):\n",
        "        self.dia = dia\n",
        "        self.mes = mes\n",
        "        self.ano = ano\n",
        "\n",
        "    def formatada(self):\n",
        "        return f\"{self.dia:02d}/{self.mes:02d}/{self.ano}\"\n",
        "\n",
        "class Historico: # Classe que representa o Histórico de operações da Conta\n",
        "    def __init__(self):\n",
        "        self.transacoes = []\n",
        "\n",
        "    def adicionar(self, transacao):\n",
        "        self.transacoes.append(transacao)\n",
        "\n",
        "    def mostrar(self):\n",
        "        for transacao in self.transacoes:\n",
        "            print(\"-\", transacao)\n",
        "\n",
        "class Conta: # Classe principal: Conta bancária\n",
        "    def __init__(self, numero, titular, saldo, limite, data_abertura):  # Método construtor com atributos obrigatórios\n",
        "        self.numero = numero\n",
        "        self.titular = titular\n",
        "        self.saldo = saldo\n",
        "        self.limite = limite\n",
        "        self.data_abertura = data_abertura\n",
        "        self.historico = Historico()    # Instancia um histórico vazio\n",
        "\n",
        "    def depositar(self, valor): # Deposita um valor na conta\n",
        "        self.saldo += valor\n",
        "        self.historico.adicionar(f\"Depósito de R$ {valor:.2f}\")\n",
        "\n",
        "    def sacar(self, valor):\n",
        "        if self.saldo < valor:\n",
        "            self.historico.adicionar(f\"Tentativa de saque de R$ {valor:.2f} (Falhou)\")\n",
        "            return False\n",
        "        else:\n",
        "            self.saldo -= valor\n",
        "            self.historico.adicionar(f\"Saque de R$ {valor:.2f}\")\n",
        "            return True\n",
        "\n",
        "    def exibir_extrato(self):  # Mostra o extrato da conta\n",
        "        print(f\"Conta número: {self.numero}\")\n",
        "        print(f\"Titular: {self.titular.nome} {self.titular.sobrenome} - CPF: {self.titular.cpf}\")\n",
        "        print(f\"Data de abertura: {self.data_abertura.formatada()}\")\n",
        "        print(f\"Saldo atual: R$ {self.saldo:.2f}\")\n",
        "\n",
        "    def transferir(self, destino, valor): # Transfere um valor para outra conta\n",
        "        retirar = self.sacar(valor)\n",
        "        if not retirar:\n",
        "            print(\"Transferência falhou: saldo insuficiente.\")\n",
        "            return False\n",
        "        else:\n",
        "            destino.depositar(valor)\n",
        "            self.historico.adicionar(f\"Transferência de R$ {valor:.2f} para conta {destino.numero}\")\n",
        "            return True\n",
        "\n",
        "    def mostrar_historico(self): # Mostra o histórico da conta\n",
        "        print(f\"\\nHistórico de transações da conta {self.numero}:\")\n",
        "        self.historico.mostrar()\n",
        "\n",
        "# Exemplo de Uso\n",
        "cliente1 = Cliente(\"João\", \"Silva\", \"123.456.789-00\")\n",
        "cliente2 = Cliente(\"Maria\", \"Souza\", \"987.654.321-00\")\n",
        "\n",
        "data1 = Data(20, 5, 2025)\n",
        "data2 = Data(18, 5, 2025)\n",
        "\n",
        "conta1 = Conta(\"123-4\", cliente1, 120.0, 1000.0, data1)\n",
        "conta2 = Conta(\"456-7\", cliente2, 500.0, 1500.0, data2)\n",
        "\n",
        "conta1.depositar(50.0)\n",
        "conta1.exibir_extrato()\n",
        "\n",
        "conta1.sacar(20.0)\n",
        "conta1.exibir_extrato()\n",
        "\n",
        "conta1.transferir(conta2, 30.0)\n",
        "\n",
        "print(\"\\nApós transferência:\")\n",
        "conta1.exibir_extrato()\n",
        "conta2.exibir_extrato()\n",
        "conta1.mostrar_historico()\n",
        "conta2.mostrar_historico()\n"
      ],
      "metadata": {
        "id": "_RZ652KqzvmX",
        "colab": {
          "base_uri": "https://localhost:8080/"
        },
        "outputId": "b3c8a137-e66e-4e41-be51-d1154a252781"
      },
      "execution_count": null,
      "outputs": [
        {
          "output_type": "stream",
          "name": "stdout",
          "text": [
            "Conta número: 123-4\n",
            "Titular: João Silva - CPF: 123.456.789-00\n",
            "Data de abertura: 20/05/2025\n",
            "Saldo atual: R$ 170.00\n",
            "Conta número: 123-4\n",
            "Titular: João Silva - CPF: 123.456.789-00\n",
            "Data de abertura: 20/05/2025\n",
            "Saldo atual: R$ 150.00\n",
            "\n",
            "Após transferência:\n",
            "Conta número: 123-4\n",
            "Titular: João Silva - CPF: 123.456.789-00\n",
            "Data de abertura: 20/05/2025\n",
            "Saldo atual: R$ 120.00\n",
            "Conta número: 456-7\n",
            "Titular: Maria Souza - CPF: 987.654.321-00\n",
            "Data de abertura: 18/05/2025\n",
            "Saldo atual: R$ 530.00\n",
            "\n",
            "Histórico de transações da conta 123-4:\n",
            "- Depósito de R$ 50.00\n",
            "- Saque de R$ 20.00\n",
            "- Saque de R$ 30.00\n",
            "- Transferência de R$ 30.00 para conta 456-7\n",
            "\n",
            "Histórico de transações da conta 456-7:\n",
            "- Depósito de R$ 30.00\n"
          ]
        }
      ]
    }
  ]
}