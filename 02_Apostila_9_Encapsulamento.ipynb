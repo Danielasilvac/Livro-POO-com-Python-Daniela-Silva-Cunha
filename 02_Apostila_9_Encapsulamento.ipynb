{
  "nbformat": 4,
  "nbformat_minor": 0,
  "metadata": {
    "colab": {
      "provenance": [],
      "authorship_tag": "ABX9TyNNlT/MAcznZdRF2dtqGZJL",
      "include_colab_link": true
    },
    "kernelspec": {
      "name": "python3",
      "display_name": "Python 3"
    },
    "language_info": {
      "name": "python"
    }
  },
  "cells": [
    {
      "cell_type": "markdown",
      "metadata": {
        "id": "view-in-github",
        "colab_type": "text"
      },
      "source": [
        "<a href=\"https://colab.research.google.com/github/Danielasilvac/Livro-POO-com-Python/blob/main/Apostila_9_Encapsulamento.ipynb\" target=\"_parent\"><img src=\"https://colab.research.google.com/assets/colab-badge.svg\" alt=\"Open In Colab\"/></a>"
      ]
    },
    {
      "cell_type": "markdown",
      "source": [
        "Exercícios: Encapsulamento"
      ],
      "metadata": {
        "id": "ScSEc_Li_999"
      }
    },
    {
      "cell_type": "code",
      "execution_count": 1,
      "metadata": {
        "colab": {
          "base_uri": "https://localhost:8080/"
        },
        "id": "MBIfFKT3_zu7",
        "outputId": "2ea61fbf-1de3-4859-aeba-500788b0090a"
      },
      "outputs": [
        {
          "output_type": "stream",
          "name": "stdout",
          "text": [
            "Saldo inicial do João: 500.0\n",
            "Saldo inicial da Maria: 300.0\n",
            "Depósito de R$ 200.00 realizado com sucesso.\n",
            "Saque de R$ 100.00 realizado.\n",
            "Saque de R$ 150.00 realizado.\n",
            "Depósito de R$ 150.00 realizado com sucesso.\n",
            "Transferência de R$ 150.00 para a conta 002 realizada.\n",
            "\n",
            "Saldo final do João: 550.0\n",
            "Saldo final da Maria: 350.0\n",
            "\n",
            "ID da conta do João: 1\n",
            "ID da conta da Maria: 2\n"
          ]
        }
      ],
      "source": [
        "class Conta:\n",
        "    __slots__ = ['_numero', '_titular', '_saldo', '_limite', '_identificador']  # Lista de atributos permitidos para a instância\n",
        "\n",
        "    _contador_id = 1 # Atributo usado para gerar identificadores únicos\n",
        "\n",
        "    def __init__(self, numero, titular, saldo, limite=1000.0): # Inicializa os atributos da conta\n",
        "        self._numero = numero  # Atributo protegido, número da conta\n",
        "        self._titular = titular # Nome do titular da conta\n",
        "        self._saldo = saldo # Saldo Inicial\n",
        "        self._limite = limite # Limite da conta\n",
        "        self._identificador = Conta._contador_id # Atribui um identificador (ID) único\n",
        "        Conta._contador_id += 1 # Incrementa o ID para a próxima conta\n",
        "\n",
        "    @property  # Propriedades para acesso controlado, usado para criação de um getter(\"acessar\").\n",
        "    # Getter – permite acessar o saldo da conta de forma segura\n",
        "    def saldo(self):\n",
        "        return self._saldo\n",
        "\n",
        "# Setter – controla alterações no saldo, impedindo valores negativos. Usado para alterar um atributo, com a chance de validar o valor antes.\n",
        "    @saldo.setter # Atributo utilizado para criar um setter.\n",
        "    def saldo(self, saldo):\n",
        "        if saldo < 0:\n",
        "            print(\"Saldo não pode ser negativo\")\n",
        "        else:  # Atribui novo valor ao saldo\n",
        "            self._saldo = saldo\n",
        "\n",
        "    @property # Getter para o número da conta\n",
        "    def numero(self):\n",
        "        return self._numero\n",
        "\n",
        "    @property\n",
        "    def titular(self): # Getter para o titular da conta\n",
        "        return self._titular\n",
        "\n",
        "    @property\n",
        "    def limite(self): # Getter para o limite da conta\n",
        "        return self._limite\n",
        "\n",
        "    @limite.setter # Setter para o limite – permite alterar o limite da conta com verificação\n",
        "    def limite(self, novo_limite):\n",
        "        if novo_limite < 0:\n",
        "            print(\"Limite não pode ser negativo.\")\n",
        "        else:\n",
        "            self._limite = novo_limite\n",
        "\n",
        "    @property # Getter para o identificador único da conta\n",
        "    def identificador(self):\n",
        "        return self._identificador\n",
        "\n",
        "# Métodos da conta (depositar, sacar, transferir e exibir extrato)\n",
        "    def depositar(self, valor):\n",
        "        self._saldo += valor\n",
        "        print(f\"Depósito de R$ {valor:.2f} realizado com sucesso.\")\n",
        "\n",
        "    def sacar(self, valor):\n",
        "        if valor > self._saldo:\n",
        "            print(\"Saldo insuficiente.\")\n",
        "            return False\n",
        "        else:\n",
        "            self._saldo -= valor\n",
        "            print(f\"Saque de R$ {valor:.2f} realizado.\")\n",
        "            return True\n",
        "\n",
        "    def transferir(self, destino, valor):\n",
        "        if self.sacar(valor):\n",
        "            destino.depositar(valor)\n",
        "            print(f\"Transferência de R$ {valor:.2f} para a conta {destino.numero} realizada.\")\n",
        "            return True\n",
        "        else:\n",
        "            print(\"Transferência não realizada.\")\n",
        "            return False\n",
        "\n",
        "    def exibir_extrato(self):\n",
        "        print(\"Extrato da Conta:\")\n",
        "        print(f\"Número: {self._numero}\")\n",
        "        print(f\"Titular: {self._titular}\")\n",
        "        print(f\"Saldo: R$ {self._saldo:.2f}\")\n",
        "        print(f\"Limite: R$ {self._limite:.2f}\")\n",
        "        print(f\"ID único: {self._identificador}\")\n",
        "        print(\"\\n\")\n",
        "\n",
        "# Exemplo de uso\n",
        "conta1 = Conta(\"001\", \"João\", 500.0)\n",
        "conta2 = Conta(\"002\", \"Maria\", 300.0)\n",
        "\n",
        "print(\"Saldo inicial do João:\", conta1.saldo)\n",
        "print(\"Saldo inicial da Maria:\", conta2.saldo)\n",
        "\n",
        "conta1.depositar(200.0)\n",
        "\n",
        "conta2.sacar(100.0)\n",
        "\n",
        "conta1.transferir(conta2, 150.0)\n",
        "\n",
        "print(\"\\nSaldo final do João:\", conta1.saldo)\n",
        "print(\"Saldo final da Maria:\", conta2.saldo)\n",
        "\n",
        "print(\"\\nID da conta do João:\", conta1.identificador)\n",
        "print(\"ID da conta da Maria:\", conta2.identificador)\n"
      ]
    }
  ]
}
