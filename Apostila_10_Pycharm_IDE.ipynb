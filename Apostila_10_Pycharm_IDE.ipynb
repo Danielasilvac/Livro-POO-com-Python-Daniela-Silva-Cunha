{
  "nbformat": 4,
  "nbformat_minor": 0,
  "metadata": {
    "colab": {
      "provenance": [],
      "authorship_tag": "ABX9TyNaciziXCX4h1VXvlQQP/mx",
      "include_colab_link": true
    },
    "kernelspec": {
      "name": "python3",
      "display_name": "Python 3"
    },
    "language_info": {
      "name": "python"
    }
  },
  "cells": [
    {
      "cell_type": "markdown",
      "metadata": {
        "id": "view-in-github",
        "colab_type": "text"
      },
      "source": [
        "<a href=\"https://colab.research.google.com/github/Danielasilvac/Livro-POO-com-Python/blob/main/Apostila_10_Pycharm_IDE.ipynb\" target=\"_parent\"><img src=\"https://colab.research.google.com/assets/colab-badge.svg\" alt=\"Open In Colab\"/></a>"
      ]
    },
    {
      "cell_type": "markdown",
      "source": [
        "Exercício - Criando projeto banco no Pycharm"
      ],
      "metadata": {
        "id": "t9MbTHzxDV8J"
      }
    },
    {
      "cell_type": "code",
      "execution_count": null,
      "metadata": {
        "colab": {
          "base_uri": "https://localhost:8080/"
        },
        "id": "Km6r48KYCuff",
        "outputId": "809b6410-8c1f-401b-c39b-3a4a5b50e3c0"
      },
      "outputs": [
        {
          "output_type": "stream",
          "name": "stdout",
          "text": [
            "Saldo inicial do João: 500.0\n",
            "Saldo inicial da Maria: 300.0\n",
            "Depósito de R$ 500.00 realizado.\n",
            "Saque de R$ 250.00 realizado.\n",
            "Saque de R$ 150.00 realizado.\n",
            "Depósito de R$ 150.00 realizado.\n",
            "Transferência de R$ 150.00 para a conta 002 realizada.\n",
            "Extrato da Conta\n",
            "Número: 001\n",
            "Titular: João Silva - CPF: 123.456.789-00\n",
            "Saldo: R$ 850.00\n",
            "Limite: R$ 1000.00\n",
            "ID único: 1\n",
            "Extrato da Conta\n",
            "Número: 002\n",
            "Titular: Maria Souza - CPF: 987.654.321-00\n",
            "Saldo: R$ 200.00\n",
            "Limite: R$ 1000.00\n",
            "ID único: 2\n"
          ]
        }
      ],
      "source": [
        "class Cliente: # Classe que representa um cliente do banco\n",
        "    def __init__(self, nome, sobrenome, cpf):\n",
        "        self._nome = nome\n",
        "        self._sobrenome = sobrenome\n",
        "        self._cpf = cpf\n",
        "\n",
        "    @property # Propriedade de verificação de dados pessoais para acesso\n",
        "    def nome_completo(self):\n",
        "        return f\"{self._nome} {self._sobrenome}\"\n",
        "\n",
        "    @property\n",
        "    def cpf(self):\n",
        "        return self._cpf\n",
        "\n",
        "    def __str__(self):\n",
        "        return f\"{self.nome_completo} - CPF: {self._cpf}\"\n",
        "\n",
        "\n",
        "class Conta: # Classe que representa uma conta bancária\n",
        "    __slots__ = ['_numero', '_titular', '_saldo', '_limite', '_identificador'] # Define um conjunto fixo de atributos para os objetos da classe\n",
        "\n",
        "    _contador_id = 1  # Contador para gerar identificadores únicos\n",
        "\n",
        "    def __init__(self, numero, titular, saldo, limite=1000.0):\n",
        "        self._numero = numero\n",
        "        self._titular = titular\n",
        "        self._saldo = saldo\n",
        "        self._limite = limite\n",
        "        self._identificador = Conta._contador_id\n",
        "        Conta._contador_id += 1\n",
        "\n",
        "    @property  # Propriedades de verificação para acessar dados, permitem acessar os atributos de forma controlada\n",
        "    def saldo(self):  # Retorna o saldo atual da conta\n",
        "        return self._saldo\n",
        "\n",
        "    @property\n",
        "    def titular(self): # Retorna o objeto cliente associado à conta\n",
        "        return self._titular\n",
        "\n",
        "    @property\n",
        "    def numero(self): # Retorna o número da conta\n",
        "        return self._numero\n",
        "\n",
        "    @property\n",
        "    def limite(self): # Retorna o limite atual da conta\n",
        "        return self._limite\n",
        "\n",
        "    @limite.setter  # Permite modificar o limite da conta com verificação\n",
        "    def limite(self, novo_limite):\n",
        "        if novo_limite < 0:\n",
        "            print(\"Limite não pode ser negativo.\")\n",
        "        else:\n",
        "            self._limite = novo_limite\n",
        "\n",
        "    @property\n",
        "    def identificador(self):  # Retorna o identificador único da conta\n",
        "        return self._identificador\n",
        "\n",
        "# Métodos operacionais da conta\n",
        "    def depositar(self, valor): # Adiciona um valor ao saldo da conta\n",
        "        self._saldo += valor\n",
        "        print(f\"Depósito de R$ {valor:.2f} realizado.\")\n",
        "\n",
        "    def sacar(self, valor): # Tenta sacar um valor do saldo da conta\n",
        "        if valor > self._saldo:\n",
        "            print(\"Saldo insuficiente.\")\n",
        "            return False\n",
        "        self._saldo -= valor\n",
        "        print(f\"Saque de R$ {valor:.2f} realizado.\")\n",
        "        return True\n",
        "\n",
        "    def transferir(self, destino, valor): # Realiza transferência de valores entre contas\n",
        "        if self.sacar(valor): # Condição - Caso o saque seja bem-sucedido\n",
        "            destino.depositar(valor) # Deposita na conta de destino\n",
        "            print(f\"Transferência de R$ {valor:.2f} para a conta {destino.numero} realizada.\")\n",
        "            return True\n",
        "        else:\n",
        "            print(\"Transferência não realizada.\")\n",
        "            return False\n",
        "\n",
        "    def exibir_extrato(self): # Exibe as informações principais da conta\n",
        "        print(\"Extrato da Conta\")\n",
        "        print(f\"Número: {self._numero}\")\n",
        "        print(f\"Titular: {self._titular}\")\n",
        "        print(f\"Saldo: R$ {self._saldo:.2f}\")\n",
        "        print(f\"Limite: R$ {self._limite:.2f}\")\n",
        "        print(f\"ID único: {self._identificador}\")\n",
        "\n",
        "# Exemplo de uso\n",
        "if __name__ == '__main__': # Criação de dois clientes\n",
        "  cliente1 = Cliente(\"João\", \"Silva\", \"123.456.789-00\")\n",
        "  cliente2 = Cliente(\"Maria\", \"Souza\", \"987.654.321-00\")\n",
        "\n",
        "  conta1 = Conta(\"001\", cliente1, 500.0) # Criação de duas contas associadas aos clientes\n",
        "  conta2 = Conta(\"002\", cliente2, 300.0)\n",
        "\n",
        "  print(\"Saldo inicial do João:\", conta1.saldo) # Exibe os saldos iniciais\n",
        "  print(\"Saldo inicial da Maria:\", conta2.saldo)\n",
        "\n",
        "  conta1.depositar(500.0) # João faz um depósito\n",
        "\n",
        "  conta2.sacar(250.0) # Maria realiza um saque\n",
        "\n",
        "  conta1.transferir(conta2, 150.0) # João transfere dinheiro para Maria\n",
        "\n",
        "  conta1.exibir_extrato() # Exibe o extrato de ambas as contas, após as operações bancárias\n",
        "  conta2.exibir_extrato()\n"
      ]
    }
  ]
}