{
  "nbformat": 4,
  "nbformat_minor": 0,
  "metadata": {
    "colab": {
      "provenance": [],
      "authorship_tag": "ABX9TyMLRPVni/YtP0Mv2Wg9CsTc",
      "include_colab_link": true
    },
    "kernelspec": {
      "name": "python3",
      "display_name": "Python 3"
    },
    "language_info": {
      "name": "python"
    }
  },
  "cells": [
    {
      "cell_type": "markdown",
      "metadata": {
        "id": "view-in-github",
        "colab_type": "text"
      },
      "source": [
        "<a href=\"https://colab.research.google.com/github/Danielasilvac/Livro-POO-com-Python-Daniela-Silva-Cunha/blob/main/05_Apostila_12_Heran%C3%A7a_M%C3%BAltipla_e_Interfaces.ipynb\" target=\"_parent\"><img src=\"https://colab.research.google.com/assets/colab-badge.svg\" alt=\"Open In Colab\"/></a>"
      ]
    },
    {
      "cell_type": "markdown",
      "source": [
        "Exercícios - Mix Ins"
      ],
      "metadata": {
        "id": "WbXilX9_SyyG"
      }
    },
    {
      "cell_type": "code",
      "execution_count": null,
      "metadata": {
        "colab": {
          "base_uri": "https://localhost:8080/"
        },
        "id": "xeiEyFWgSihT",
        "outputId": "a04c8591-b309-4342-f2d4-3f2a275a1792"
      },
      "outputs": [
        {
          "output_type": "stream",
          "name": "stdout",
          "text": [
            "ContaPoupanca('Juliana', '123-6') não é um tributável.\n",
            "\n",
            "Total de impostos calculado: R$ 79.00\n"
          ]
        }
      ],
      "source": [
        "import abc\n",
        "\n",
        "class Tributavel(abc.ABC): # Classe abstrata que define a interface Tributável\n",
        "\n",
        "    @abc.abstractmethod\n",
        "    def get_valor_imposto(self): # Método abstrato que calcula o valor do imposto, aplica taxa de imposto sobre o valor de determinado objeto\n",
        "        pass\n",
        "\n",
        "class Conta(abc.ABC): # Classe base para contas bancárias\n",
        "    def __init__(self, titular, numero, saldo=0.0, limite=1000.0): # Inicializa os dados básicos da conta\n",
        "        self._titular = titular\n",
        "        self._numero = numero\n",
        "        self._saldo = saldo\n",
        "        self._limite = limite\n",
        "\n",
        "    @property\n",
        "    def saldo(self): # Getter para acessar o saldo atual da conta\n",
        "        return self._saldo\n",
        "\n",
        "    def depositar(self, valor): # Adiciona valor ao saldo da conta\n",
        "        self._saldo += valor\n",
        "\n",
        "    def __repr__(self): #  Representação técnica do objeto\n",
        "        return f\"{self.__class__.__name__}('{self._titular}', '{self._numero}')\"\n",
        "\n",
        "    def __str__(self): # Representação legível do objeto\n",
        "        return f\"{self.__class__.__name__} - Número: {self._numero}, Titular: {self._titular}, Saldo: R$ {self._saldo:.2f}\"\n",
        "\n",
        "class ContaCorrente(Conta): # Conta Corrente é tributável (1% do saldo)\n",
        "    def get_valor_imposto(self):\n",
        "        return self._saldo * 0.01\n",
        "\n",
        "class ContaPoupanca(Conta): # Conta Poupança não é tributável\n",
        "    pass\n",
        "\n",
        "class ContaInvestimento(Conta): # Conta Investimento é tributável (3% do saldo)\n",
        "    def atualizar(self, taxa):\n",
        "        self._saldo += self._saldo * taxa * 5\n",
        "\n",
        "    def get_valor_imposto(self):\n",
        "        return self._saldo * 0.03\n",
        "\n",
        "class SeguroDeVida: # Seguro de Vida é tributável (R$50 fixo + 5% do valor do seguro)\n",
        "    def __init__(self, valor, titular, numero_apolice):\n",
        "        self._valor = valor\n",
        "        self._titular = titular\n",
        "        self._numero_apolice = numero_apolice\n",
        "\n",
        "    def get_valor_imposto(self):\n",
        "        return 50 + self._valor * 0.05\n",
        "\n",
        "    def __repr__(self):\n",
        "        return f\"SeguroDeVida('{self._titular}', '{self._numero_apolice}')\"\n",
        "\n",
        "class ManipuladorDeTributaveis: # Classe para manipular objetos tributáveis\n",
        "    def calcular_impostos(self, lista_tributaveis):\n",
        "        total = 0\n",
        "        for item in lista_tributaveis:\n",
        "            if isinstance(item, Tributavel): # Se o item for registrado como Tributável, calcula o imposto\n",
        "                total += item.get_valor_imposto()\n",
        "            else: # Caso contrário, avisa que não é tributável\n",
        "                print(item.__repr__(), \"não é um tributável.\")\n",
        "        return total\n",
        "\n",
        "\n",
        "# Exemplo de uso\n",
        "if __name__ == '__main__':\n",
        "  # Registrando as classes que implementam o comportamento 'Tributavel'\n",
        "    Tributavel.register(ContaCorrente)\n",
        "    Tributavel.register(SeguroDeVida)\n",
        "    Tributavel.register(ContaInvestimento)\n",
        "\n",
        "    cc = ContaCorrente('Mariana', '123-4')\n",
        "    cc.depositar(1500.0) # Depositando R$1500 na conta corrente\n",
        "\n",
        "# Criando uma instância de SeguroDeVida com valor de apólice R$100\n",
        "    seguro = SeguroDeVida(100.0, 'Fernando', '345-77')\n",
        "\n",
        "# Criando uma instância de ContaPoupanca que não é tributável\n",
        "    cp = ContaPoupanca('Juliana', '123-6')\n",
        "\n",
        "# Criando uma instância de ContaInvestimento e depositando R$300\n",
        "    ci = ContaInvestimento('Pedro', '123-0')\n",
        "    ci.depositar(300.0)\n",
        "\n",
        "# Lista com todas as instâncias, nem todas são tributáveis\n",
        "    lista_tributaveis = [cc, seguro, cp, ci]\n",
        "\n",
        "# Calculando o imposto total\n",
        "    mt = ManipuladorDeTributaveis()  # Manipulador que calcula os impostos\n",
        "    total = mt.calcular_impostos(lista_tributaveis)\n",
        "\n",
        "    print(f\"\\nTotal de impostos calculado: R$ {total:.2f}\") # Exibindo o valor total de impostos calculados\n",
        "\n"
      ]
    }
  ]
}